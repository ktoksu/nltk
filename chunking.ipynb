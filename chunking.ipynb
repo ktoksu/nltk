{
 "cells": [
  {
   "cell_type": "code",
   "execution_count": 13,
   "metadata": {
    "collapsed": false
   },
   "outputs": [
    {
     "name": "stdout",
     "output_type": "stream",
     "text": [
      "(S\n",
      "  (NP June/NNP and/CC Charlie/NNP met/VBD)\n",
      "  on/IN\n",
      "  a/DT\n",
      "  summer/NN\n",
      "  day/NN\n",
      "  ./.)\n",
      "(S\n",
      "  It/PRP\n",
      "  was/VBD\n",
      "  so/RB\n",
      "  hot/JJ\n",
      "  the/DT\n",
      "  grass/NN\n",
      "  was/VBD\n",
      "  laying/VBG\n",
      "  down/RP\n",
      "  yellow/RB\n",
      "  in/IN\n",
      "  exhaustion/NN\n",
      "  and/CC\n",
      "  the/DT\n",
      "  air/NN\n",
      "  was/VBD\n",
      "  so/RB\n",
      "  heavy/JJ\n",
      "  it/PRP\n",
      "  was/VBD\n",
      "  hard/JJ\n",
      "  to/TO\n",
      "  breath/VB\n",
      "  ./.)\n",
      "(S\n",
      "  (NP June/NNP and/CC Charlie/NNP knew/VBD)\n",
      "  it/PRP\n",
      "  was/VBD\n",
      "  a/DT\n",
      "  day/NN\n",
      "  they/PRP\n",
      "  would/MD\n",
      "  remember/VB\n",
      "  ./.)\n",
      "(S\n",
      "  They/PRP\n",
      "  would/MD\n",
      "  tell/VB\n",
      "  their/PRP$\n",
      "  children/NNS\n",
      "  that/IN\n",
      "  the/DT\n",
      "  day/NN\n",
      "  they/PRP\n",
      "  met/VBD\n",
      "  the/DT\n",
      "  air/NN\n",
      "  was/VBD\n",
      "  sucked/VBN\n",
      "  out/IN\n",
      "  of/IN\n",
      "  their/PRP$\n",
      "  lungs/NNS\n",
      "  and/CC\n",
      "  they/PRP\n",
      "  knew/VBD\n",
      "  ./.)\n",
      "(S They/PRP just/RB knew/VBD ./.)\n"
     ]
    }
   ],
   "source": [
    "import nltk, re, pprint\n",
    "\n",
    "text = \"June and Charlie met on a summer day.  It was so hot the grass was laying down yellow in exhaustion and the air was so heavy it was hard to breath.  June and Charlie knew it was a day they would remember.  They would tell their children that the day they met the air was sucked out of their lungs and they knew.  They just knew.\"\n",
    "sentences = nltk.sent_tokenize(text)  # splits text into a list of sentences\n",
    "sents_tokens = [nltk.word_tokenize(sent) for sent in sentences] # tokenize sentences\n",
    "\n",
    "sents_pos_tags = [nltk.pos_tag(sent) for sent in sents_tokens]  # POS tag it\n",
    "\n",
    "grammar = \"NP: {<NNP><CC><NNP><VBD>}\"\n",
    "cp = nltk.RegexpParser(grammar)\n",
    "\n",
    "for sent in sents_pos_tags:\n",
    "    result = cp.parse(sent)\n",
    "    print(result)\n"
   ]
  },
  {
   "cell_type": "code",
   "execution_count": null,
   "metadata": {
    "collapsed": true
   },
   "outputs": [],
   "source": []
  }
 ],
 "metadata": {
  "kernelspec": {
   "display_name": "Python 3",
   "language": "python",
   "name": "python3"
  },
  "language_info": {
   "codemirror_mode": {
    "name": "ipython",
    "version": 3
   },
   "file_extension": ".py",
   "mimetype": "text/x-python",
   "name": "python",
   "nbconvert_exporter": "python",
   "pygments_lexer": "ipython3",
   "version": "3.5.1"
  }
 },
 "nbformat": 4,
 "nbformat_minor": 0
}
